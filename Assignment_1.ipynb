{
 "cells": [
  {
   "cell_type": "code",
   "execution_count": 2,
   "id": "81751975",
   "metadata": {
    "ExecuteTime": {
     "end_time": "2021-10-14T11:00:00.700839Z",
     "start_time": "2021-10-14T10:59:29.349409Z"
    }
   },
   "outputs": [],
   "source": [
    "import pandas as pd\n",
    "import numpy as np\n",
    "import seaborn as sns\n",
    "from scipy import stats\n",
    "import statsmodels.api as smf\n",
    "import pylab as py\n",
    "%matplotlib inline"
   ]
  },
  {
   "cell_type": "markdown",
   "id": "54119ab9",
   "metadata": {
    "ExecuteTime": {
     "end_time": "2021-10-14T08:38:34.489619Z",
     "start_time": "2021-10-14T08:38:34.473446Z"
    }
   },
   "source": [
    "## Q4) Two Dice are rolled, find the probability that sum is --\n",
    "      ## a)Equal to 1\n",
    "      ## b)Less than or equal to 4\n",
    "      ## c)Sum is divisible by 2 and 3"
   ]
  },
  {
   "cell_type": "code",
   "execution_count": 3,
   "id": "740332b1",
   "metadata": {
    "ExecuteTime": {
     "end_time": "2021-10-14T08:38:43.687345Z",
     "start_time": "2021-10-14T08:38:43.665029Z"
    }
   },
   "outputs": [
    {
     "name": "stdout",
     "output_type": "stream",
     "text": [
      "[(1, 1), (1, 2), (1, 3), (1, 4), (1, 5), (1, 6)]\n",
      "[(2, 1), (2, 2), (2, 3), (2, 4), (2, 5), (2, 6)]\n",
      "[(3, 1), (3, 2), (3, 3), (3, 4), (3, 5), (3, 6)]\n",
      "[(4, 1), (4, 2), (4, 3), (4, 4), (4, 5), (4, 6)]\n",
      "[(5, 1), (5, 2), (5, 3), (5, 4), (5, 5), (5, 6)]\n",
      "[(6, 1), (6, 2), (6, 3), (6, 4), (6, 5), (6, 6)]\n"
     ]
    }
   ],
   "source": [
    "for i in range (1,7):\n",
    "    combinations = []\n",
    "    for j in range (1,7):\n",
    "        com = i,j\n",
    "        combinations.append(com)\n",
    "        j+=1\n",
    "    print(combinations)"
   ]
  },
  {
   "cell_type": "code",
   "execution_count": 4,
   "id": "0c881e51",
   "metadata": {
    "ExecuteTime": {
     "end_time": "2021-10-14T08:38:58.519056Z",
     "start_time": "2021-10-14T08:38:58.497324Z"
    }
   },
   "outputs": [
    {
     "name": "stdout",
     "output_type": "stream",
     "text": [
      "[]\n",
      "Probability that the Sum is Equal to 1:  0\n"
     ]
    }
   ],
   "source": [
    "## a)Equal to 1\n",
    " \n",
    "for i in range (1,7):\n",
    "    combinations = []\n",
    "    for j in range (1,7):\n",
    "        com = i,j\n",
    "        if i+j <= 1:\n",
    "            combinations.append(com)\n",
    "        j+=1\n",
    "    i+=1\n",
    "print(combinations)\n",
    "print(\"Probability that the Sum is Equal to 1: \",len(combinations))"
   ]
  },
  {
   "cell_type": "code",
   "execution_count": 5,
   "id": "2184d2da",
   "metadata": {
    "ExecuteTime": {
     "end_time": "2021-10-14T08:39:15.092518Z",
     "start_time": "2021-10-14T08:39:15.067870Z"
    }
   },
   "outputs": [
    {
     "name": "stdout",
     "output_type": "stream",
     "text": [
      "[(1, 1), (1, 2), (1, 3), (2, 1), (2, 2), (3, 1)]\n",
      "Events of whose Sum is Less than or equal to 4:  6\n"
     ]
    }
   ],
   "source": [
    "## b)Less than or equal to 4\n",
    "\n",
    "combinations = []\n",
    "for i in range (1,7):\n",
    "    for j in range (1,7):\n",
    "        com = i,j\n",
    "        if i+j <= 4:\n",
    "            combinations.append(com)\n",
    "        j+=1\n",
    "    i+=1\n",
    "print(combinations)\n",
    "print(\"Events of whose Sum is Less than or equal to 4: \",len(combinations))"
   ]
  },
  {
   "cell_type": "code",
   "execution_count": 6,
   "id": "145430f1",
   "metadata": {
    "ExecuteTime": {
     "end_time": "2021-10-14T08:39:27.765330Z",
     "start_time": "2021-10-14T08:39:27.752638Z"
    }
   },
   "outputs": [
    {
     "name": "stdout",
     "output_type": "stream",
     "text": [
      "[(1, 5), (2, 4), (3, 3), (4, 2), (5, 1), (6, 6)]\n",
      "Events of whose Sum is Divisible by 2 and 3:  6\n"
     ]
    }
   ],
   "source": [
    "## c)Sum is divisible by 2 and 3\n",
    "\n",
    "combinations = []\n",
    "for i in range (1,7):\n",
    "    for j in range (1,7):\n",
    "        com = i,j\n",
    "        if (i+j)%2==0 and (i+j)%3==0 :\n",
    "            combinations.append(com)\n",
    "        j+=1\n",
    "    i+=1\n",
    "print(combinations)\n",
    "print(\"Events of whose Sum is Divisible by 2 and 3: \",len(combinations))"
   ]
  },
  {
   "cell_type": "markdown",
   "id": "2092208a",
   "metadata": {
    "ExecuteTime": {
     "end_time": "2021-10-14T08:41:06.378357Z",
     "start_time": "2021-10-14T08:41:06.172852Z"
    }
   },
   "source": [
    "## Q7) Calculate Mean, Median, Mode, Variance, Standard Deviation, Range & comment about the values / draw inferences, for the given dataset --\n",
    "\n"
   ]
  },
  {
   "cell_type": "code",
   "execution_count": 12,
   "id": "d7a8c491",
   "metadata": {
    "ExecuteTime": {
     "end_time": "2021-10-14T08:51:26.056502Z",
     "start_time": "2021-10-14T08:51:26.022595Z"
    }
   },
   "outputs": [
    {
     "data": {
      "text/html": [
       "<div>\n",
       "<style scoped>\n",
       "    .dataframe tbody tr th:only-of-type {\n",
       "        vertical-align: middle;\n",
       "    }\n",
       "\n",
       "    .dataframe tbody tr th {\n",
       "        vertical-align: top;\n",
       "    }\n",
       "\n",
       "    .dataframe thead th {\n",
       "        text-align: right;\n",
       "    }\n",
       "</style>\n",
       "<table border=\"1\" class=\"dataframe\">\n",
       "  <thead>\n",
       "    <tr style=\"text-align: right;\">\n",
       "      <th></th>\n",
       "      <th>Points</th>\n",
       "      <th>Score</th>\n",
       "      <th>Weigh</th>\n",
       "    </tr>\n",
       "  </thead>\n",
       "  <tbody>\n",
       "    <tr>\n",
       "      <th>count</th>\n",
       "      <td>32.000000</td>\n",
       "      <td>32.000000</td>\n",
       "      <td>32.000000</td>\n",
       "    </tr>\n",
       "    <tr>\n",
       "      <th>mean</th>\n",
       "      <td>3.596563</td>\n",
       "      <td>3.217250</td>\n",
       "      <td>17.848750</td>\n",
       "    </tr>\n",
       "    <tr>\n",
       "      <th>std</th>\n",
       "      <td>0.534679</td>\n",
       "      <td>0.978457</td>\n",
       "      <td>1.786943</td>\n",
       "    </tr>\n",
       "    <tr>\n",
       "      <th>min</th>\n",
       "      <td>2.760000</td>\n",
       "      <td>1.513000</td>\n",
       "      <td>14.500000</td>\n",
       "    </tr>\n",
       "    <tr>\n",
       "      <th>25%</th>\n",
       "      <td>3.080000</td>\n",
       "      <td>2.581250</td>\n",
       "      <td>16.892500</td>\n",
       "    </tr>\n",
       "    <tr>\n",
       "      <th>50%</th>\n",
       "      <td>3.695000</td>\n",
       "      <td>3.325000</td>\n",
       "      <td>17.710000</td>\n",
       "    </tr>\n",
       "    <tr>\n",
       "      <th>75%</th>\n",
       "      <td>3.920000</td>\n",
       "      <td>3.610000</td>\n",
       "      <td>18.900000</td>\n",
       "    </tr>\n",
       "    <tr>\n",
       "      <th>max</th>\n",
       "      <td>4.930000</td>\n",
       "      <td>5.424000</td>\n",
       "      <td>22.900000</td>\n",
       "    </tr>\n",
       "  </tbody>\n",
       "</table>\n",
       "</div>"
      ],
      "text/plain": [
       "          Points      Score      Weigh\n",
       "count  32.000000  32.000000  32.000000\n",
       "mean    3.596563   3.217250  17.848750\n",
       "std     0.534679   0.978457   1.786943\n",
       "min     2.760000   1.513000  14.500000\n",
       "25%     3.080000   2.581250  16.892500\n",
       "50%     3.695000   3.325000  17.710000\n",
       "75%     3.920000   3.610000  18.900000\n",
       "max     4.930000   5.424000  22.900000"
      ]
     },
     "execution_count": 12,
     "metadata": {},
     "output_type": "execute_result"
    }
   ],
   "source": [
    "Q7 = pd.read_csv(\"C:\\\\Users\\\\Lenovo\\\\Desktop\\\\ExcelR\\\\Data Science Assignments\\\\1_Basic Statistics_Level 1\\\\Q7.csv\")\n",
    "Q7.describe()"
   ]
  },
  {
   "cell_type": "code",
   "execution_count": 9,
   "id": "ba268ea5",
   "metadata": {
    "ExecuteTime": {
     "end_time": "2021-10-14T08:42:31.352848Z",
     "start_time": "2021-10-14T08:42:31.301974Z"
    }
   },
   "outputs": [
    {
     "data": {
      "text/html": [
       "<div>\n",
       "<style scoped>\n",
       "    .dataframe tbody tr th:only-of-type {\n",
       "        vertical-align: middle;\n",
       "    }\n",
       "\n",
       "    .dataframe tbody tr th {\n",
       "        vertical-align: top;\n",
       "    }\n",
       "\n",
       "    .dataframe thead th {\n",
       "        text-align: right;\n",
       "    }\n",
       "</style>\n",
       "<table border=\"1\" class=\"dataframe\">\n",
       "  <thead>\n",
       "    <tr style=\"text-align: right;\">\n",
       "      <th></th>\n",
       "      <th>Unnamed: 0</th>\n",
       "      <th>Points</th>\n",
       "      <th>Score</th>\n",
       "      <th>Weigh</th>\n",
       "    </tr>\n",
       "  </thead>\n",
       "  <tbody>\n",
       "    <tr>\n",
       "      <th>0</th>\n",
       "      <td>AMC Javelin</td>\n",
       "      <td>3.07</td>\n",
       "      <td>3.44</td>\n",
       "      <td>17.02</td>\n",
       "    </tr>\n",
       "    <tr>\n",
       "      <th>1</th>\n",
       "      <td>Cadillac Fleetwood</td>\n",
       "      <td>3.92</td>\n",
       "      <td>NaN</td>\n",
       "      <td>18.90</td>\n",
       "    </tr>\n",
       "    <tr>\n",
       "      <th>2</th>\n",
       "      <td>Camaro Z28</td>\n",
       "      <td>NaN</td>\n",
       "      <td>NaN</td>\n",
       "      <td>NaN</td>\n",
       "    </tr>\n",
       "    <tr>\n",
       "      <th>3</th>\n",
       "      <td>Chrysler Imperial</td>\n",
       "      <td>NaN</td>\n",
       "      <td>NaN</td>\n",
       "      <td>NaN</td>\n",
       "    </tr>\n",
       "    <tr>\n",
       "      <th>4</th>\n",
       "      <td>Datsun 710</td>\n",
       "      <td>NaN</td>\n",
       "      <td>NaN</td>\n",
       "      <td>NaN</td>\n",
       "    </tr>\n",
       "    <tr>\n",
       "      <th>5</th>\n",
       "      <td>Dodge Challenger</td>\n",
       "      <td>NaN</td>\n",
       "      <td>NaN</td>\n",
       "      <td>NaN</td>\n",
       "    </tr>\n",
       "    <tr>\n",
       "      <th>6</th>\n",
       "      <td>Duster 360</td>\n",
       "      <td>NaN</td>\n",
       "      <td>NaN</td>\n",
       "      <td>NaN</td>\n",
       "    </tr>\n",
       "    <tr>\n",
       "      <th>7</th>\n",
       "      <td>Ferrari Dino</td>\n",
       "      <td>NaN</td>\n",
       "      <td>NaN</td>\n",
       "      <td>NaN</td>\n",
       "    </tr>\n",
       "    <tr>\n",
       "      <th>8</th>\n",
       "      <td>Fiat 128</td>\n",
       "      <td>NaN</td>\n",
       "      <td>NaN</td>\n",
       "      <td>NaN</td>\n",
       "    </tr>\n",
       "    <tr>\n",
       "      <th>9</th>\n",
       "      <td>Fiat X1-9</td>\n",
       "      <td>NaN</td>\n",
       "      <td>NaN</td>\n",
       "      <td>NaN</td>\n",
       "    </tr>\n",
       "    <tr>\n",
       "      <th>10</th>\n",
       "      <td>Ford Pantera L</td>\n",
       "      <td>NaN</td>\n",
       "      <td>NaN</td>\n",
       "      <td>NaN</td>\n",
       "    </tr>\n",
       "    <tr>\n",
       "      <th>11</th>\n",
       "      <td>Honda Civic</td>\n",
       "      <td>NaN</td>\n",
       "      <td>NaN</td>\n",
       "      <td>NaN</td>\n",
       "    </tr>\n",
       "    <tr>\n",
       "      <th>12</th>\n",
       "      <td>Hornet 4 Drive</td>\n",
       "      <td>NaN</td>\n",
       "      <td>NaN</td>\n",
       "      <td>NaN</td>\n",
       "    </tr>\n",
       "    <tr>\n",
       "      <th>13</th>\n",
       "      <td>Hornet Sportabout</td>\n",
       "      <td>NaN</td>\n",
       "      <td>NaN</td>\n",
       "      <td>NaN</td>\n",
       "    </tr>\n",
       "    <tr>\n",
       "      <th>14</th>\n",
       "      <td>Lincoln Continental</td>\n",
       "      <td>NaN</td>\n",
       "      <td>NaN</td>\n",
       "      <td>NaN</td>\n",
       "    </tr>\n",
       "    <tr>\n",
       "      <th>15</th>\n",
       "      <td>Lotus Europa</td>\n",
       "      <td>NaN</td>\n",
       "      <td>NaN</td>\n",
       "      <td>NaN</td>\n",
       "    </tr>\n",
       "    <tr>\n",
       "      <th>16</th>\n",
       "      <td>Maserati Bora</td>\n",
       "      <td>NaN</td>\n",
       "      <td>NaN</td>\n",
       "      <td>NaN</td>\n",
       "    </tr>\n",
       "    <tr>\n",
       "      <th>17</th>\n",
       "      <td>Mazda RX4</td>\n",
       "      <td>NaN</td>\n",
       "      <td>NaN</td>\n",
       "      <td>NaN</td>\n",
       "    </tr>\n",
       "    <tr>\n",
       "      <th>18</th>\n",
       "      <td>Mazda RX4 Wag</td>\n",
       "      <td>NaN</td>\n",
       "      <td>NaN</td>\n",
       "      <td>NaN</td>\n",
       "    </tr>\n",
       "    <tr>\n",
       "      <th>19</th>\n",
       "      <td>Merc 230</td>\n",
       "      <td>NaN</td>\n",
       "      <td>NaN</td>\n",
       "      <td>NaN</td>\n",
       "    </tr>\n",
       "    <tr>\n",
       "      <th>20</th>\n",
       "      <td>Merc 240D</td>\n",
       "      <td>NaN</td>\n",
       "      <td>NaN</td>\n",
       "      <td>NaN</td>\n",
       "    </tr>\n",
       "    <tr>\n",
       "      <th>21</th>\n",
       "      <td>Merc 280</td>\n",
       "      <td>NaN</td>\n",
       "      <td>NaN</td>\n",
       "      <td>NaN</td>\n",
       "    </tr>\n",
       "    <tr>\n",
       "      <th>22</th>\n",
       "      <td>Merc 280C</td>\n",
       "      <td>NaN</td>\n",
       "      <td>NaN</td>\n",
       "      <td>NaN</td>\n",
       "    </tr>\n",
       "    <tr>\n",
       "      <th>23</th>\n",
       "      <td>Merc 450SE</td>\n",
       "      <td>NaN</td>\n",
       "      <td>NaN</td>\n",
       "      <td>NaN</td>\n",
       "    </tr>\n",
       "    <tr>\n",
       "      <th>24</th>\n",
       "      <td>Merc 450SL</td>\n",
       "      <td>NaN</td>\n",
       "      <td>NaN</td>\n",
       "      <td>NaN</td>\n",
       "    </tr>\n",
       "    <tr>\n",
       "      <th>25</th>\n",
       "      <td>Merc 450SLC</td>\n",
       "      <td>NaN</td>\n",
       "      <td>NaN</td>\n",
       "      <td>NaN</td>\n",
       "    </tr>\n",
       "    <tr>\n",
       "      <th>26</th>\n",
       "      <td>Pontiac Firebird</td>\n",
       "      <td>NaN</td>\n",
       "      <td>NaN</td>\n",
       "      <td>NaN</td>\n",
       "    </tr>\n",
       "    <tr>\n",
       "      <th>27</th>\n",
       "      <td>Porsche 914-2</td>\n",
       "      <td>NaN</td>\n",
       "      <td>NaN</td>\n",
       "      <td>NaN</td>\n",
       "    </tr>\n",
       "    <tr>\n",
       "      <th>28</th>\n",
       "      <td>Toyota Corolla</td>\n",
       "      <td>NaN</td>\n",
       "      <td>NaN</td>\n",
       "      <td>NaN</td>\n",
       "    </tr>\n",
       "    <tr>\n",
       "      <th>29</th>\n",
       "      <td>Toyota Corona</td>\n",
       "      <td>NaN</td>\n",
       "      <td>NaN</td>\n",
       "      <td>NaN</td>\n",
       "    </tr>\n",
       "    <tr>\n",
       "      <th>30</th>\n",
       "      <td>Valiant</td>\n",
       "      <td>NaN</td>\n",
       "      <td>NaN</td>\n",
       "      <td>NaN</td>\n",
       "    </tr>\n",
       "    <tr>\n",
       "      <th>31</th>\n",
       "      <td>Volvo 142E</td>\n",
       "      <td>NaN</td>\n",
       "      <td>NaN</td>\n",
       "      <td>NaN</td>\n",
       "    </tr>\n",
       "  </tbody>\n",
       "</table>\n",
       "</div>"
      ],
      "text/plain": [
       "             Unnamed: 0  Points  Score  Weigh\n",
       "0           AMC Javelin    3.07   3.44  17.02\n",
       "1    Cadillac Fleetwood    3.92    NaN  18.90\n",
       "2            Camaro Z28     NaN    NaN    NaN\n",
       "3     Chrysler Imperial     NaN    NaN    NaN\n",
       "4            Datsun 710     NaN    NaN    NaN\n",
       "5      Dodge Challenger     NaN    NaN    NaN\n",
       "6            Duster 360     NaN    NaN    NaN\n",
       "7          Ferrari Dino     NaN    NaN    NaN\n",
       "8              Fiat 128     NaN    NaN    NaN\n",
       "9             Fiat X1-9     NaN    NaN    NaN\n",
       "10       Ford Pantera L     NaN    NaN    NaN\n",
       "11          Honda Civic     NaN    NaN    NaN\n",
       "12       Hornet 4 Drive     NaN    NaN    NaN\n",
       "13    Hornet Sportabout     NaN    NaN    NaN\n",
       "14  Lincoln Continental     NaN    NaN    NaN\n",
       "15         Lotus Europa     NaN    NaN    NaN\n",
       "16        Maserati Bora     NaN    NaN    NaN\n",
       "17            Mazda RX4     NaN    NaN    NaN\n",
       "18        Mazda RX4 Wag     NaN    NaN    NaN\n",
       "19             Merc 230     NaN    NaN    NaN\n",
       "20            Merc 240D     NaN    NaN    NaN\n",
       "21             Merc 280     NaN    NaN    NaN\n",
       "22            Merc 280C     NaN    NaN    NaN\n",
       "23           Merc 450SE     NaN    NaN    NaN\n",
       "24           Merc 450SL     NaN    NaN    NaN\n",
       "25          Merc 450SLC     NaN    NaN    NaN\n",
       "26     Pontiac Firebird     NaN    NaN    NaN\n",
       "27        Porsche 914-2     NaN    NaN    NaN\n",
       "28       Toyota Corolla     NaN    NaN    NaN\n",
       "29        Toyota Corona     NaN    NaN    NaN\n",
       "30              Valiant     NaN    NaN    NaN\n",
       "31           Volvo 142E     NaN    NaN    NaN"
      ]
     },
     "execution_count": 9,
     "metadata": {},
     "output_type": "execute_result"
    }
   ],
   "source": [
    "Q7.mode()"
   ]
  },
  {
   "cell_type": "code",
   "execution_count": 11,
   "id": "6246e8dc",
   "metadata": {
    "ExecuteTime": {
     "end_time": "2021-10-14T08:42:49.136959Z",
     "start_time": "2021-10-14T08:42:49.113208Z"
    }
   },
   "outputs": [
    {
     "data": {
      "text/plain": [
       "Points    0.285881\n",
       "Score     0.957379\n",
       "Weigh     3.193166\n",
       "dtype: float64"
      ]
     },
     "execution_count": 11,
     "metadata": {},
     "output_type": "execute_result"
    }
   ],
   "source": [
    "Q7.var()"
   ]
  },
  {
   "cell_type": "markdown",
   "id": "41c22eac",
   "metadata": {},
   "source": [
    "## Q9) Calculate Skewness, Kurtosis & draw inferences on the following given data --"
   ]
  },
  {
   "cell_type": "code",
   "execution_count": 27,
   "id": "e5d094e4",
   "metadata": {
    "ExecuteTime": {
     "end_time": "2021-10-14T09:07:26.290010Z",
     "start_time": "2021-10-14T09:07:26.269067Z"
    }
   },
   "outputs": [
    {
     "data": {
      "text/html": [
       "<div>\n",
       "<style scoped>\n",
       "    .dataframe tbody tr th:only-of-type {\n",
       "        vertical-align: middle;\n",
       "    }\n",
       "\n",
       "    .dataframe tbody tr th {\n",
       "        vertical-align: top;\n",
       "    }\n",
       "\n",
       "    .dataframe thead th {\n",
       "        text-align: right;\n",
       "    }\n",
       "</style>\n",
       "<table border=\"1\" class=\"dataframe\">\n",
       "  <thead>\n",
       "    <tr style=\"text-align: right;\">\n",
       "      <th></th>\n",
       "      <th>Index</th>\n",
       "      <th>speed</th>\n",
       "      <th>dist</th>\n",
       "    </tr>\n",
       "  </thead>\n",
       "  <tbody>\n",
       "    <tr>\n",
       "      <th>0</th>\n",
       "      <td>1</td>\n",
       "      <td>4</td>\n",
       "      <td>2</td>\n",
       "    </tr>\n",
       "    <tr>\n",
       "      <th>1</th>\n",
       "      <td>2</td>\n",
       "      <td>4</td>\n",
       "      <td>10</td>\n",
       "    </tr>\n",
       "    <tr>\n",
       "      <th>2</th>\n",
       "      <td>3</td>\n",
       "      <td>7</td>\n",
       "      <td>4</td>\n",
       "    </tr>\n",
       "    <tr>\n",
       "      <th>3</th>\n",
       "      <td>4</td>\n",
       "      <td>7</td>\n",
       "      <td>22</td>\n",
       "    </tr>\n",
       "    <tr>\n",
       "      <th>4</th>\n",
       "      <td>5</td>\n",
       "      <td>8</td>\n",
       "      <td>16</td>\n",
       "    </tr>\n",
       "  </tbody>\n",
       "</table>\n",
       "</div>"
      ],
      "text/plain": [
       "   Index  speed  dist\n",
       "0      1      4     2\n",
       "1      2      4    10\n",
       "2      3      7     4\n",
       "3      4      7    22\n",
       "4      5      8    16"
      ]
     },
     "execution_count": 27,
     "metadata": {},
     "output_type": "execute_result"
    }
   ],
   "source": [
    "Q9_a = pd.read_csv(\"C:\\\\Users\\\\Lenovo\\\\Desktop\\\\ExcelR\\\\Data Science Assignments\\\\1_Basic Statistics_Level 1\\\\Q9_a.csv\")\n",
    "Q9_a.head()"
   ]
  },
  {
   "cell_type": "code",
   "execution_count": 28,
   "id": "9c5182a2",
   "metadata": {
    "ExecuteTime": {
     "end_time": "2021-10-14T09:07:33.174861Z",
     "start_time": "2021-10-14T09:07:33.157888Z"
    }
   },
   "outputs": [
    {
     "name": "stdout",
     "output_type": "stream",
     "text": [
      "Kurtosis of Car Speed:  -0.5089944204057617\n",
      "Skewness of Car Speed:  -0.11750986144663393\n"
     ]
    }
   ],
   "source": [
    "print(\"Kurtosis of Car Speed: \", Q9_a.speed.kurtosis())\n",
    "print(\"Skewness of Car Speed: \", Q9_a.speed.skew())"
   ]
  },
  {
   "cell_type": "code",
   "execution_count": 29,
   "id": "054111be",
   "metadata": {
    "ExecuteTime": {
     "end_time": "2021-10-14T09:07:41.176101Z",
     "start_time": "2021-10-14T09:07:41.164783Z"
    }
   },
   "outputs": [
    {
     "name": "stdout",
     "output_type": "stream",
     "text": [
      "Kurtosis of Car Distance:  0.4050525816795765\n",
      "Skewness of Car Distance:  0.8068949601674215\n"
     ]
    }
   ],
   "source": [
    "print(\"Kurtosis of Car Distance: \", Q9_a.dist.kurtosis())\n",
    "print(\"Skewness of Car Distance: \", Q9_a.dist.skew())"
   ]
  },
  {
   "cell_type": "code",
   "execution_count": 30,
   "id": "78c19e5f",
   "metadata": {
    "ExecuteTime": {
     "end_time": "2021-10-14T09:07:45.843501Z",
     "start_time": "2021-10-14T09:07:45.644557Z"
    }
   },
   "outputs": [
    {
     "name": "stderr",
     "output_type": "stream",
     "text": [
      "C:\\Users\\Lenovo\\anaconda3\\lib\\site-packages\\seaborn\\distributions.py:2557: FutureWarning: `distplot` is a deprecated function and will be removed in a future version. Please adapt your code to use either `displot` (a figure-level function with similar flexibility) or `histplot` (an axes-level function for histograms).\n",
      "  warnings.warn(msg, FutureWarning)\n"
     ]
    },
    {
     "data": {
      "text/plain": [
       "<AxesSubplot:xlabel='speed', ylabel='Density'>"
      ]
     },
     "execution_count": 30,
     "metadata": {},
     "output_type": "execute_result"
    },
    {
     "data": {
      "image/png": "[encoded data removed]",
      "text/plain": [
       "<Figure size 432x288 with 1 Axes>"
      ]
     },
     "metadata": {
      "needs_background": "light"
     },
     "output_type": "display_data"
    }
   ],
   "source": [
    "sns.distplot(Q9_a.speed)"
   ]
  },
  {
   "cell_type": "code",
   "execution_count": 31,
   "id": "70387a5d",
   "metadata": {
    "ExecuteTime": {
     "end_time": "2021-10-14T09:07:51.478177Z",
     "start_time": "2021-10-14T09:07:51.273000Z"
    }
   },
   "outputs": [
    {
     "name": "stderr",
     "output_type": "stream",
     "text": [
      "C:\\Users\\Lenovo\\anaconda3\\lib\\site-packages\\seaborn\\distributions.py:2557: FutureWarning: `distplot` is a deprecated function and will be removed in a future version. Please adapt your code to use either `displot` (a figure-level function with similar flexibility) or `histplot` (an axes-level function for histograms).\n",
      "  warnings.warn(msg, FutureWarning)\n"
     ]
    },
    {
     "data": {
      "text/plain": [
       "<AxesSubplot:xlabel='dist', ylabel='Density'>"
      ]
     },
     "execution_count": 31,
     "metadata": {},
     "output_type": "execute_result"
    },
    {
     "data": {
      "image/png": "[encoded data removed]",
      "text/plain": [
       "<Figure size 432x288 with 1 Axes>"
      ]
     },
     "metadata": {
      "needs_background": "light"
     },
     "output_type": "display_data"
    }
   ],
   "source": [
    "sns.distplot(Q9_a.dist)"
   ]
  },
  {
   "cell_type": "code",
   "execution_count": 32,
   "id": "6e75bfc2",
   "metadata": {
    "ExecuteTime": {
     "end_time": "2021-10-14T09:08:23.896126Z",
     "start_time": "2021-10-14T09:08:23.860224Z"
    }
   },
   "outputs": [
    {
     "data": {
      "text/html": [
       "<div>\n",
       "<style scoped>\n",
       "    .dataframe tbody tr th:only-of-type {\n",
       "        vertical-align: middle;\n",
       "    }\n",
       "\n",
       "    .dataframe tbody tr th {\n",
       "        vertical-align: top;\n",
       "    }\n",
       "\n",
       "    .dataframe thead th {\n",
       "        text-align: right;\n",
       "    }\n",
       "</style>\n",
       "<table border=\"1\" class=\"dataframe\">\n",
       "  <thead>\n",
       "    <tr style=\"text-align: right;\">\n",
       "      <th></th>\n",
       "      <th>Unnamed: 0</th>\n",
       "      <th>SP</th>\n",
       "      <th>WT</th>\n",
       "    </tr>\n",
       "  </thead>\n",
       "  <tbody>\n",
       "    <tr>\n",
       "      <th>0</th>\n",
       "      <td>1</td>\n",
       "      <td>104.185353</td>\n",
       "      <td>28.762059</td>\n",
       "    </tr>\n",
       "    <tr>\n",
       "      <th>1</th>\n",
       "      <td>2</td>\n",
       "      <td>105.461264</td>\n",
       "      <td>30.466833</td>\n",
       "    </tr>\n",
       "    <tr>\n",
       "      <th>2</th>\n",
       "      <td>3</td>\n",
       "      <td>105.461264</td>\n",
       "      <td>30.193597</td>\n",
       "    </tr>\n",
       "    <tr>\n",
       "      <th>3</th>\n",
       "      <td>4</td>\n",
       "      <td>113.461264</td>\n",
       "      <td>30.632114</td>\n",
       "    </tr>\n",
       "    <tr>\n",
       "      <th>4</th>\n",
       "      <td>5</td>\n",
       "      <td>104.461264</td>\n",
       "      <td>29.889149</td>\n",
       "    </tr>\n",
       "  </tbody>\n",
       "</table>\n",
       "</div>"
      ],
      "text/plain": [
       "   Unnamed: 0          SP         WT\n",
       "0           1  104.185353  28.762059\n",
       "1           2  105.461264  30.466833\n",
       "2           3  105.461264  30.193597\n",
       "3           4  113.461264  30.632114\n",
       "4           5  104.461264  29.889149"
      ]
     },
     "execution_count": 32,
     "metadata": {},
     "output_type": "execute_result"
    }
   ],
   "source": [
    "Q9_b = pd.read_csv(\"C:\\\\Users\\\\Lenovo\\\\Desktop\\\\ExcelR\\\\Data Science Assignments\\\\1_Basic Statistics_Level 1\\\\Q9_b.csv\")\n",
    "Q9_b.head()"
   ]
  },
  {
   "cell_type": "code",
   "execution_count": 33,
   "id": "209805fa",
   "metadata": {
    "ExecuteTime": {
     "end_time": "2021-10-14T09:09:17.258271Z",
     "start_time": "2021-10-14T09:09:17.243325Z"
    }
   },
   "outputs": [
    {
     "name": "stdout",
     "output_type": "stream",
     "text": [
      "Kurtosis of SP:  2.9773289437871835\n",
      "Skewness of SP:  1.6114501961773586\n"
     ]
    }
   ],
   "source": [
    "print(\"Kurtosis of SP: \", Q9_b.SP.kurtosis())\n",
    "print(\"Skewness of SP: \", Q9_b.SP.skew())"
   ]
  },
  {
   "cell_type": "code",
   "execution_count": 34,
   "id": "2c1b26b3",
   "metadata": {
    "ExecuteTime": {
     "end_time": "2021-10-14T09:09:47.106979Z",
     "start_time": "2021-10-14T09:09:47.098003Z"
    }
   },
   "outputs": [
    {
     "name": "stdout",
     "output_type": "stream",
     "text": [
      "Kurtosis of WT:  0.9502914910300326\n",
      "Skewness of WT:  -0.6147533255357768\n"
     ]
    }
   ],
   "source": [
    "print(\"Kurtosis of WT: \", Q9_b.WT.kurtosis())\n",
    "print(\"Skewness of WT: \", Q9_b.WT.skew())"
   ]
  },
  {
   "cell_type": "code",
   "execution_count": 35,
   "id": "323af04b",
   "metadata": {
    "ExecuteTime": {
     "end_time": "2021-10-14T09:10:08.471728Z",
     "start_time": "2021-10-14T09:10:08.236575Z"
    }
   },
   "outputs": [
    {
     "name": "stderr",
     "output_type": "stream",
     "text": [
      "C:\\Users\\Lenovo\\anaconda3\\lib\\site-packages\\seaborn\\distributions.py:2557: FutureWarning: `distplot` is a deprecated function and will be removed in a future version. Please adapt your code to use either `displot` (a figure-level function with similar flexibility) or `histplot` (an axes-level function for histograms).\n",
      "  warnings.warn(msg, FutureWarning)\n"
     ]
    },
    {
     "data": {
      "text/plain": [
       "<AxesSubplot:xlabel='SP', ylabel='Density'>"
      ]
     },
     "execution_count": 35,
     "metadata": {},
     "output_type": "execute_result"
    },
    {
     "data": {
      "image/png": "[encoded data removed]",
      "text/plain": [
       "<Figure size 432x288 with 1 Axes>"
      ]
     },
     "metadata": {
      "needs_background": "light"
     },
     "output_type": "display_data"
    }
   ],
   "source": [
    "sns.distplot(Q9_b.SP)"
   ]
  },
  {
   "cell_type": "code",
   "execution_count": 36,
   "id": "f65c1ca2",
   "metadata": {
    "ExecuteTime": {
     "end_time": "2021-10-14T09:10:28.599616Z",
     "start_time": "2021-10-14T09:10:28.380242Z"
    }
   },
   "outputs": [
    {
     "name": "stderr",
     "output_type": "stream",
     "text": [
      "C:\\Users\\Lenovo\\anaconda3\\lib\\site-packages\\seaborn\\distributions.py:2557: FutureWarning: `distplot` is a deprecated function and will be removed in a future version. Please adapt your code to use either `displot` (a figure-level function with similar flexibility) or `histplot` (an axes-level function for histograms).\n",
      "  warnings.warn(msg, FutureWarning)\n"
     ]
    },
    {
     "data": {
      "text/plain": [
       "<AxesSubplot:xlabel='WT', ylabel='Density'>"
      ]
     },
     "execution_count": 36,
     "metadata": {},
     "output_type": "execute_result"
    },
    {
     "data": {
      "image/png": "[encoded data removed]",
      "text/plain": [
       "<Figure size 432x288 with 1 Axes>"
      ]
     },
     "metadata": {
      "needs_background": "light"
     },
     "output_type": "display_data"
    }
   ],
   "source": [
    "sns.distplot(Q9_b.WT)"
   ]
  },
  {
   "cell_type": "markdown",
   "id": "b27c5129",
   "metadata": {},
   "source": [
    "## Q11) Suppose we want to estimate the average weight of an adult male in Mexico. We draw a random sample of 2,000 men from a population of 3,000,000 men and weigh them. We find that the average person in our sample weighs 200 pounds, and the standard deviation of the sample is 30 pounds. Calculate 94%, 98%, 96% confidence interval?"
   ]
  },
  {
   "cell_type": "code",
   "execution_count": 42,
   "id": "3c1ed303",
   "metadata": {
    "ExecuteTime": {
     "end_time": "2021-10-14T09:26:33.572364Z",
     "start_time": "2021-10-14T09:26:33.552419Z"
    }
   },
   "outputs": [
    {
     "name": "stdout",
     "output_type": "stream",
     "text": [
      "Estimated 94% Confidence Interval:  [134.897 265.103]\n",
      "Estimated 98% Confidence Interval:  [122.725 277.275]\n",
      "Estimated 96% Confidence Interval:  [130.21 269.79]\n"
     ]
    }
   ],
   "source": [
    "# For 94% confidence interval\n",
    "Avg_Wt1 = stats.norm.interval(0.97, loc=200, scale=30)\n",
    "print(\"Estimated 94% Confidence Interval: \",np.round(Avg_Wt1,3))\n",
    "\n",
    "# For 98% confidence interval\n",
    "Avg_Wt2 = stats.norm.interval(0.99, loc=200, scale=30)\n",
    "print(\"Estimated 98% Confidence Interval: \",np.round(Avg_Wt2,3))\n",
    "\n",
    "# For 96% confidence interval\n",
    "Avg_Wt3 = stats.norm.interval(0.98, loc=200, scale=30)\n",
    "print(\"Estimated 96% Confidence Interval: \",np.round(Avg_Wt3,3))"
   ]
  },
  {
   "cell_type": "markdown",
   "id": "ff26589d",
   "metadata": {},
   "source": [
    "## Q12) Below are the scores obtained by a student in tests \n",
    "34,36,36,38,38,39,39,40,40,41,41,41,41,42,42,45,49,56\n",
    "   #### 1)\tFind mean, median, variance, standard deviation.\n",
    "   #### 2)\tWhat can we say about the student marks? \n",
    "\n"
   ]
  },
  {
   "cell_type": "code",
   "execution_count": 51,
   "id": "7500d538",
   "metadata": {
    "ExecuteTime": {
     "end_time": "2021-10-14T09:37:13.877737Z",
     "start_time": "2021-10-14T09:37:13.857788Z"
    }
   },
   "outputs": [
    {
     "name": "stdout",
     "output_type": "stream",
     "text": [
      "Mean:  0    41.0\n",
      "dtype: float64\n",
      "Median:  0    40.5\n",
      "dtype: float64\n",
      "Variance:  0    25.529412\n",
      "dtype: float64\n",
      "Standard Deviation:  0    5.052664\n",
      "dtype: float64\n"
     ]
    }
   ],
   "source": [
    "data = [34,36,36,38,38,39,39,40,40,41,41,41,41,42,42,45,49,56]\n",
    "data = pd.DataFrame(data)\n",
    "\n",
    "print(\"Mean: \",data.mean())\n",
    "\n",
    "print(\"Median: \",data.median())\n",
    "\n",
    "print(\"Variance: \",data.var())\n",
    "\n",
    "print(\"Standard Deviation: \",data.std())"
   ]
  },
  {
   "cell_type": "markdown",
   "id": "b6588133",
   "metadata": {},
   "source": [
    "## Q 20) Calculate probability from the given dataset for the below cases\n",
    "\n",
    "Data _set: Cars.csv\n",
    "Calculate the probability of MPG  of Cars for the below cases.\n",
    "       MPG <- Cars$MPG\n",
    "a.\tP(MPG>38)\n",
    "b.\tP(MPG<40)\n",
    "c.\tP (20<MPG<50)\n"
   ]
  },
  {
   "cell_type": "code",
   "execution_count": 53,
   "id": "710eec58",
   "metadata": {
    "ExecuteTime": {
     "end_time": "2021-10-14T09:54:46.302176Z",
     "start_time": "2021-10-14T09:54:46.280232Z"
    }
   },
   "outputs": [
    {
     "data": {
      "text/html": [
       "<div>\n",
       "<style scoped>\n",
       "    .dataframe tbody tr th:only-of-type {\n",
       "        vertical-align: middle;\n",
       "    }\n",
       "\n",
       "    .dataframe tbody tr th {\n",
       "        vertical-align: top;\n",
       "    }\n",
       "\n",
       "    .dataframe thead th {\n",
       "        text-align: right;\n",
       "    }\n",
       "</style>\n",
       "<table border=\"1\" class=\"dataframe\">\n",
       "  <thead>\n",
       "    <tr style=\"text-align: right;\">\n",
       "      <th></th>\n",
       "      <th>HP</th>\n",
       "      <th>MPG</th>\n",
       "      <th>VOL</th>\n",
       "      <th>SP</th>\n",
       "      <th>WT</th>\n",
       "    </tr>\n",
       "  </thead>\n",
       "  <tbody>\n",
       "    <tr>\n",
       "      <th>0</th>\n",
       "      <td>49</td>\n",
       "      <td>53.700681</td>\n",
       "      <td>89</td>\n",
       "      <td>104.185353</td>\n",
       "      <td>28.762059</td>\n",
       "    </tr>\n",
       "    <tr>\n",
       "      <th>1</th>\n",
       "      <td>55</td>\n",
       "      <td>50.013401</td>\n",
       "      <td>92</td>\n",
       "      <td>105.461264</td>\n",
       "      <td>30.466833</td>\n",
       "    </tr>\n",
       "    <tr>\n",
       "      <th>2</th>\n",
       "      <td>55</td>\n",
       "      <td>50.013401</td>\n",
       "      <td>92</td>\n",
       "      <td>105.461264</td>\n",
       "      <td>30.193597</td>\n",
       "    </tr>\n",
       "    <tr>\n",
       "      <th>3</th>\n",
       "      <td>70</td>\n",
       "      <td>45.696322</td>\n",
       "      <td>92</td>\n",
       "      <td>113.461264</td>\n",
       "      <td>30.632114</td>\n",
       "    </tr>\n",
       "    <tr>\n",
       "      <th>4</th>\n",
       "      <td>53</td>\n",
       "      <td>50.504232</td>\n",
       "      <td>92</td>\n",
       "      <td>104.461264</td>\n",
       "      <td>29.889149</td>\n",
       "    </tr>\n",
       "  </tbody>\n",
       "</table>\n",
       "</div>"
      ],
      "text/plain": [
       "   HP        MPG  VOL          SP         WT\n",
       "0  49  53.700681   89  104.185353  28.762059\n",
       "1  55  50.013401   92  105.461264  30.466833\n",
       "2  55  50.013401   92  105.461264  30.193597\n",
       "3  70  45.696322   92  113.461264  30.632114\n",
       "4  53  50.504232   92  104.461264  29.889149"
      ]
     },
     "execution_count": 53,
     "metadata": {},
     "output_type": "execute_result"
    }
   ],
   "source": [
    "cars = pd.read_csv(\"C:\\\\Users\\\\Lenovo\\\\Desktop\\\\ExcelR\\\\Data Science Assignments\\\\1_Basic Statistics_Level 1\\\\Cars.csv\")\n",
    "cars.head()"
   ]
  },
  {
   "cell_type": "code",
   "execution_count": 60,
   "id": "f0de1a81",
   "metadata": {
    "ExecuteTime": {
     "end_time": "2021-10-14T09:56:29.538647Z",
     "start_time": "2021-10-14T09:56:29.528673Z"
    }
   },
   "outputs": [
    {
     "name": "stdout",
     "output_type": "stream",
     "text": [
      "34.422075728024666\n",
      "9.131444731795982\n"
     ]
    }
   ],
   "source": [
    "Mean = print(cars.MPG.mean())\n",
    "SD = print(cars.MPG.std())"
   ]
  },
  {
   "cell_type": "code",
   "execution_count": 72,
   "id": "f64fd418",
   "metadata": {
    "ExecuteTime": {
     "end_time": "2021-10-14T10:08:21.646977Z",
     "start_time": "2021-10-14T10:08:21.627019Z"
    }
   },
   "outputs": [
    {
     "name": "stdout",
     "output_type": "stream",
     "text": [
      "Probability of (MPG>38) :  0.3476\n",
      "Probability of (MPG<40) :  0.7293\n",
      "Probability of (20<MPG<50) :  0.8989\n"
     ]
    }
   ],
   "source": [
    "# P(MPG>38)\n",
    "Prob1 = np.round(1-stats.norm.cdf(38, loc=cars.MPG.mean(), scale=cars.MPG.std()),4)\n",
    "print(\"Probability of (MPG>38) : \",Prob1)\n",
    "\n",
    "# P(MPG<40)\n",
    "Prob2 = np.round(stats.norm.cdf(40, loc=cars.MPG.mean(), scale=cars.MPG.std()),4)\n",
    "print(\"Probability of (MPG<40) : \",Prob2)\n",
    "\n",
    "# P(20<MPG<50)\n",
    "Prob3 = np.round(stats.norm.cdf(20, loc=cars.MPG.mean(), scale=cars.MPG.std()),4)\n",
    "Prob4 = np.round(stats.norm.cdf(50, loc=cars.MPG.mean(), scale=cars.MPG.std()),4)\n",
    "Prob5 = Prob4 - Prob3\n",
    "print(\"Probability of (20<MPG<50) : \",np.round(Prob5,4))\n",
    "\n"
   ]
  },
  {
   "cell_type": "markdown",
   "id": "a33ff07e",
   "metadata": {},
   "source": [
    "## Q 21) Check whether the data follows normal distribution"
   ]
  },
  {
   "cell_type": "markdown",
   "id": "98d86f3a",
   "metadata": {},
   "source": [
    "#### a)\tCheck whether the MPG of Cars follows Normal Distribution \n",
    "        Dataset: Cars.csv\n"
   ]
  },
  {
   "cell_type": "code",
   "execution_count": 6,
   "id": "b793ddd6",
   "metadata": {
    "ExecuteTime": {
     "end_time": "2021-10-14T11:01:26.528261Z",
     "start_time": "2021-10-14T11:01:25.885757Z"
    }
   },
   "outputs": [
    {
     "data": {
      "image/png": "[encoded data removed]",
      "text/plain": [
       "<Figure size 432x288 with 1 Axes>"
      ]
     },
     "metadata": {
      "needs_background": "light"
     },
     "output_type": "display_data"
    }
   ],
   "source": [
    "smf.qqplot(cars[\"MPG\"], line=\"r\")\n",
    "py.show()"
   ]
  },
  {
   "cell_type": "code",
   "execution_count": 7,
   "id": "2ebd99fb",
   "metadata": {
    "ExecuteTime": {
     "end_time": "2021-10-14T11:02:12.238053Z",
     "start_time": "2021-10-14T11:02:12.051605Z"
    }
   },
   "outputs": [
    {
     "name": "stderr",
     "output_type": "stream",
     "text": [
      "C:\\Users\\Lenovo\\anaconda3\\lib\\site-packages\\seaborn\\distributions.py:2557: FutureWarning: `distplot` is a deprecated function and will be removed in a future version. Please adapt your code to use either `displot` (a figure-level function with similar flexibility) or `histplot` (an axes-level function for histograms).\n",
      "  warnings.warn(msg, FutureWarning)\n"
     ]
    },
    {
     "data": {
      "text/plain": [
       "<AxesSubplot:xlabel='MPG', ylabel='Density'>"
      ]
     },
     "execution_count": 7,
     "metadata": {},
     "output_type": "execute_result"
    },
    {
     "data": {
      "image/png": "[encoded data removed]",
      "text/plain": [
       "<Figure size 432x288 with 1 Axes>"
      ]
     },
     "metadata": {
      "needs_background": "light"
     },
     "output_type": "display_data"
    }
   ],
   "source": [
    "sns.distplot(cars[\"MPG\"])"
   ]
  },
  {
   "cell_type": "markdown",
   "id": "6d1c20ca",
   "metadata": {},
   "source": [
    "#### b)\tCheck Whether the Adipose Tissue (AT) and Waist Circumference(Waist)  from wc-at data set  follows Normal Distribution \n",
    "       Dataset: wc-at.csv\n"
   ]
  },
  {
   "cell_type": "code",
   "execution_count": 10,
   "id": "0736526d",
   "metadata": {
    "ExecuteTime": {
     "end_time": "2021-10-14T11:04:55.577039Z",
     "start_time": "2021-10-14T11:04:55.441027Z"
    }
   },
   "outputs": [
    {
     "data": {
      "text/html": [
       "<div>\n",
       "<style scoped>\n",
       "    .dataframe tbody tr th:only-of-type {\n",
       "        vertical-align: middle;\n",
       "    }\n",
       "\n",
       "    .dataframe tbody tr th {\n",
       "        vertical-align: top;\n",
       "    }\n",
       "\n",
       "    .dataframe thead th {\n",
       "        text-align: right;\n",
       "    }\n",
       "</style>\n",
       "<table border=\"1\" class=\"dataframe\">\n",
       "  <thead>\n",
       "    <tr style=\"text-align: right;\">\n",
       "      <th></th>\n",
       "      <th>Waist</th>\n",
       "      <th>AT</th>\n",
       "    </tr>\n",
       "  </thead>\n",
       "  <tbody>\n",
       "    <tr>\n",
       "      <th>0</th>\n",
       "      <td>74.75</td>\n",
       "      <td>25.72</td>\n",
       "    </tr>\n",
       "    <tr>\n",
       "      <th>1</th>\n",
       "      <td>72.60</td>\n",
       "      <td>25.89</td>\n",
       "    </tr>\n",
       "    <tr>\n",
       "      <th>2</th>\n",
       "      <td>81.80</td>\n",
       "      <td>42.60</td>\n",
       "    </tr>\n",
       "    <tr>\n",
       "      <th>3</th>\n",
       "      <td>83.95</td>\n",
       "      <td>42.80</td>\n",
       "    </tr>\n",
       "    <tr>\n",
       "      <th>4</th>\n",
       "      <td>74.65</td>\n",
       "      <td>29.84</td>\n",
       "    </tr>\n",
       "  </tbody>\n",
       "</table>\n",
       "</div>"
      ],
      "text/plain": [
       "   Waist     AT\n",
       "0  74.75  25.72\n",
       "1  72.60  25.89\n",
       "2  81.80  42.60\n",
       "3  83.95  42.80\n",
       "4  74.65  29.84"
      ]
     },
     "execution_count": 10,
     "metadata": {},
     "output_type": "execute_result"
    }
   ],
   "source": [
    "wc_at = pd.read_csv(\"C:\\\\Users\\\\Lenovo\\\\Desktop\\\\ExcelR\\\\Data Science Assignments\\\\1_Basic Statistics_Level 1\\\\wc-at.csv\")\n",
    "wc_at.head()"
   ]
  },
  {
   "cell_type": "code",
   "execution_count": 14,
   "id": "bc101e77",
   "metadata": {
    "ExecuteTime": {
     "end_time": "2021-10-14T11:06:40.010951Z",
     "start_time": "2021-10-14T11:06:39.856717Z"
    }
   },
   "outputs": [
    {
     "data": {
      "image/png": "[encoded data removed]",
      "text/plain": [
       "<Figure size 432x288 with 1 Axes>"
      ]
     },
     "metadata": {
      "needs_background": "light"
     },
     "output_type": "display_data"
    }
   ],
   "source": [
    "smf.qqplot(wc_at[\"Waist\"],line=\"r\")\n",
    "py.show()"
   ]
  },
  {
   "cell_type": "code",
   "execution_count": 15,
   "id": "f6d412cc",
   "metadata": {
    "ExecuteTime": {
     "end_time": "2021-10-14T11:07:06.456237Z",
     "start_time": "2021-10-14T11:07:06.282913Z"
    }
   },
   "outputs": [
    {
     "name": "stderr",
     "output_type": "stream",
     "text": [
      "C:\\Users\\Lenovo\\anaconda3\\lib\\site-packages\\seaborn\\distributions.py:2557: FutureWarning: `distplot` is a deprecated function and will be removed in a future version. Please adapt your code to use either `displot` (a figure-level function with similar flexibility) or `histplot` (an axes-level function for histograms).\n",
      "  warnings.warn(msg, FutureWarning)\n"
     ]
    },
    {
     "data": {
      "text/plain": [
       "<AxesSubplot:xlabel='Waist', ylabel='Density'>"
      ]
     },
     "execution_count": 15,
     "metadata": {},
     "output_type": "execute_result"
    },
    {
     "data": {
      "image/png": "[encoded data removed]",
      "text/plain": [
       "<Figure size 432x288 with 1 Axes>"
      ]
     },
     "metadata": {
      "needs_background": "light"
     },
     "output_type": "display_data"
    }
   ],
   "source": [
    "sns.distplot(wc_at[\"Waist\"])"
   ]
  },
  {
   "cell_type": "code",
   "execution_count": 16,
   "id": "59d14ad7",
   "metadata": {
    "ExecuteTime": {
     "end_time": "2021-10-14T11:07:20.869265Z",
     "start_time": "2021-10-14T11:07:20.699244Z"
    }
   },
   "outputs": [
    {
     "data": {
      "image/png": "[encoded data removed]",
      "text/plain": [
       "<Figure size 432x288 with 1 Axes>"
      ]
     },
     "metadata": {
      "needs_background": "light"
     },
     "output_type": "display_data"
    }
   ],
   "source": [
    "smf.qqplot(wc_at[\"AT\"],line=\"r\")\n",
    "py.show()"
   ]
  },
  {
   "cell_type": "code",
   "execution_count": 17,
   "id": "681ca1a6",
   "metadata": {
    "ExecuteTime": {
     "end_time": "2021-10-14T11:07:32.487081Z",
     "start_time": "2021-10-14T11:07:32.284248Z"
    }
   },
   "outputs": [
    {
     "name": "stderr",
     "output_type": "stream",
     "text": [
      "C:\\Users\\Lenovo\\anaconda3\\lib\\site-packages\\seaborn\\distributions.py:2557: FutureWarning: `distplot` is a deprecated function and will be removed in a future version. Please adapt your code to use either `displot` (a figure-level function with similar flexibility) or `histplot` (an axes-level function for histograms).\n",
      "  warnings.warn(msg, FutureWarning)\n"
     ]
    },
    {
     "data": {
      "text/plain": [
       "<AxesSubplot:xlabel='AT', ylabel='Density'>"
      ]
     },
     "execution_count": 17,
     "metadata": {},
     "output_type": "execute_result"
    },
    {
     "data": {
      "image/png": "[encoded data removed]",
      "text/plain": [
       "<Figure size 432x288 with 1 Axes>"
      ]
     },
     "metadata": {
      "needs_background": "light"
     },
     "output_type": "display_data"
    }
   ],
   "source": [
    "sns.distplot(wc_at[\"AT\"])"
   ]
  },
  {
   "cell_type": "markdown",
   "id": "bc08026c",
   "metadata": {},
   "source": [
    "## Q 22) Calculate the Z scores of  90% confidence interval,94% confidence interval, 60% confidence interval "
   ]
  },
  {
   "cell_type": "code",
   "execution_count": 23,
   "id": "733d6484",
   "metadata": {
    "ExecuteTime": {
     "end_time": "2021-10-14T11:13:07.271472Z",
     "start_time": "2021-10-14T11:13:07.250529Z"
    }
   },
   "outputs": [
    {
     "name": "stdout",
     "output_type": "stream",
     "text": [
      "Z-Scores of 90% Confidence Interval :  0.8289438736915182\n",
      "Z-Scores of 97% Confidence Interval :  0.8339767539364704\n",
      "Z-Scores of 60% Confidence Interval :  0.7881446014166034\n"
     ]
    }
   ],
   "source": [
    "z_value1 = stats.norm.cdf(0.95)\n",
    "print(\"Z-Scores of 90% Confidence Interval : \",z_value1)\n",
    "\n",
    "z_value2 = stats.norm.cdf(0.97)\n",
    "print(\"Z-Scores of 97% Confidence Interval : \",z_value2)\n",
    "\n",
    "z_value3 = stats.norm.cdf(0.80)\n",
    "print(\"Z-Scores of 60% Confidence Interval : \",z_value3)"
   ]
  },
  {
   "cell_type": "markdown",
   "id": "410eb1b0",
   "metadata": {},
   "source": [
    "##  Q 23) Calculate the t scores of 95% confidence interval, 96% confidence interval, 99% confidence interval for sample size of 25"
   ]
  },
  {
   "cell_type": "code",
   "execution_count": 29,
   "id": "97cafe81",
   "metadata": {
    "ExecuteTime": {
     "end_time": "2021-10-14T11:17:12.183472Z",
     "start_time": "2021-10-14T11:17:12.168511Z"
    }
   },
   "outputs": [
    {
     "name": "stdout",
     "output_type": "stream",
     "text": [
      "T-Scores of 95% Confidence Interval :  2.0638985616280205\n",
      "T-Scores of 96% Confidence Interval :  2.1715446760080677\n",
      "T-Scores of 99% Confidence Interval :  2.796939504772804\n"
     ]
    }
   ],
   "source": [
    "t_scores1 = stats.t.ppf(0.975,df=24)\n",
    "print(\"T-Scores of 95% Confidence Interval : \",t_scores1)\n",
    "\n",
    "t_scores2 = stats.t.ppf(0.98,df=24)\n",
    "print(\"T-Scores of 96% Confidence Interval : \",t_scores2)\n",
    "\n",
    "t_scores3 = stats.t.ppf(0.995,df=24)\n",
    "print(\"T-Scores of 99% Confidence Interval : \",t_scores3)"
   ]
  },
  {
   "cell_type": "markdown",
   "id": "f232c288",
   "metadata": {},
   "source": [
    "## Q 24)   A Government company claims that an average light bulb lasts 270 days. A researcher randomly selects 18 bulbs for testing. The sampled bulbs last an average of 260 days, with a standard deviation of 90 days. If the CEO's claim were true, what is the probability that 18 randomly selected bulbs would have an average life of no more than 260 days?"
   ]
  },
  {
   "cell_type": "code",
   "execution_count": 33,
   "id": "d37e732a",
   "metadata": {
    "ExecuteTime": {
     "end_time": "2021-10-14T11:21:34.041175Z",
     "start_time": "2021-10-14T11:21:34.023738Z"
    }
   },
   "outputs": [
    {
     "name": "stdout",
     "output_type": "stream",
     "text": [
      "T-value is :  -0.4714\n"
     ]
    }
   ],
   "source": [
    "t_value = np.round((260-270)/(90/np.sqrt(18)),4)\n",
    "print(\"T-value is : \",t_value)"
   ]
  },
  {
   "cell_type": "code",
   "execution_count": 34,
   "id": "7cd86544",
   "metadata": {
    "ExecuteTime": {
     "end_time": "2021-10-14T11:22:57.248161Z",
     "start_time": "2021-10-14T11:22:57.233204Z"
    }
   },
   "outputs": [
    {
     "name": "stdout",
     "output_type": "stream",
     "text": [
      "Probability of average life of no more than 260 days is :  0.3217\n"
     ]
    }
   ],
   "source": [
    "prob_life= np.round(stats.t.cdf(-0.4714,17),4)\n",
    "print(\"Probability of average life of no more than 260 days is : \",prob_life)"
   ]
  }
 ],
 "metadata": {
  "kernelspec": {
   "display_name": "Python 3",
   "language": "python",
   "name": "python3"
  },
  "language_info": {
   "codemirror_mode": {
    "name": "ipython",
    "version": 3
   },
   "file_extension": ".py",
   "mimetype": "text/x-python",
   "name": "python",
   "nbconvert_exporter": "python",
   "pygments_lexer": "ipython3",
   "version": "3.8.8"
  },
  "toc": {
   "base_numbering": 1,
   "nav_menu": {},
   "number_sections": true,
   "sideBar": true,
   "skip_h1_title": false,
   "title_cell": "Table of Contents",
   "title_sidebar": "Contents",
   "toc_cell": false,
   "toc_position": {},
   "toc_section_display": true,
   "toc_window_display": false
  },
  "varInspector": {
   "cols": {
    "lenName": 16,
    "lenType": 16,
    "lenVar": 40
   },
   "kernels_config": {
    "python": {
     "delete_cmd_postfix": "",
     "delete_cmd_prefix": "del ",
     "library": "var_list.py",
     "varRefreshCmd": "print(var_dic_list())"
    },
    "r": {
     "delete_cmd_postfix": ") ",
     "delete_cmd_prefix": "rm(",
     "library": "var_list.r",
     "varRefreshCmd": "cat(var_dic_list()) "
    }
   },
   "types_to_exclude": [
    "module",
    "function",
    "builtin_function_or_method",
    "instance",
    "_Feature"
   ],
   "window_display": false
  }
 },
 "nbformat": 4,
 "nbformat_minor": 5
}
