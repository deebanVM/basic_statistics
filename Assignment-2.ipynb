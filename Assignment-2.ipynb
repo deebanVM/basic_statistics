{
 "cells": [
  {
   "cell_type": "markdown",
   "id": "fc82302a",
   "metadata": {},
   "source": [
    "# Set-1"
   ]
  },
  {
   "cell_type": "code",
   "execution_count": 2,
   "id": "93d6b6e7",
   "metadata": {
    "ExecuteTime": {
     "end_time": "2021-10-16T09:12:33.955396Z",
     "start_time": "2021-10-16T09:12:16.748860Z"
    }
   },
   "outputs": [],
   "source": [
    "import pandas as pd\n",
    "import numpy as np\n",
    "import matplotlib.pyplot as plt"
   ]
  },
  {
   "cell_type": "code",
   "execution_count": 3,
   "id": "1215e2b3",
   "metadata": {
    "ExecuteTime": {
     "end_time": "2021-10-16T09:12:35.283196Z",
     "start_time": "2021-10-16T09:12:35.198749Z"
    }
   },
   "outputs": [],
   "source": [
    "data = pd.read_csv(\"C:\\\\Users\\\\Lenovo\\\\Desktop\\\\ExcelR\\\\Data Science Assignments\\\\2_Basic Statistics_Level 2\\\\Set1_Q1.csv\")"
   ]
  },
  {
   "cell_type": "code",
   "execution_count": 4,
   "id": "b26406a0",
   "metadata": {
    "ExecuteTime": {
     "end_time": "2021-10-16T09:12:36.387009Z",
     "start_time": "2021-10-16T09:12:36.227816Z"
    }
   },
   "outputs": [
    {
     "data": {
      "text/html": [
       "<div>\n",
       "<style scoped>\n",
       "    .dataframe tbody tr th:only-of-type {\n",
       "        vertical-align: middle;\n",
       "    }\n",
       "\n",
       "    .dataframe tbody tr th {\n",
       "        vertical-align: top;\n",
       "    }\n",
       "\n",
       "    .dataframe thead th {\n",
       "        text-align: right;\n",
       "    }\n",
       "</style>\n",
       "<table border=\"1\" class=\"dataframe\">\n",
       "  <thead>\n",
       "    <tr style=\"text-align: right;\">\n",
       "      <th></th>\n",
       "      <th>Name of company</th>\n",
       "      <th>Measure X_Percentage</th>\n",
       "      <th>Measure X_Value</th>\n",
       "    </tr>\n",
       "  </thead>\n",
       "  <tbody>\n",
       "    <tr>\n",
       "      <th>0</th>\n",
       "      <td>Allied Signal</td>\n",
       "      <td>0.24</td>\n",
       "      <td>24.23</td>\n",
       "    </tr>\n",
       "    <tr>\n",
       "      <th>1</th>\n",
       "      <td>Bankers Trust</td>\n",
       "      <td>0.26</td>\n",
       "      <td>25.53</td>\n",
       "    </tr>\n",
       "    <tr>\n",
       "      <th>2</th>\n",
       "      <td>General Mills</td>\n",
       "      <td>0.25</td>\n",
       "      <td>25.41</td>\n",
       "    </tr>\n",
       "    <tr>\n",
       "      <th>3</th>\n",
       "      <td>ITT Industries</td>\n",
       "      <td>0.24</td>\n",
       "      <td>24.14</td>\n",
       "    </tr>\n",
       "    <tr>\n",
       "      <th>4</th>\n",
       "      <td>J.P.Morgan &amp; Co.</td>\n",
       "      <td>0.30</td>\n",
       "      <td>29.62</td>\n",
       "    </tr>\n",
       "    <tr>\n",
       "      <th>5</th>\n",
       "      <td>Lehman Brothers</td>\n",
       "      <td>0.28</td>\n",
       "      <td>28.25</td>\n",
       "    </tr>\n",
       "    <tr>\n",
       "      <th>6</th>\n",
       "      <td>Marriott</td>\n",
       "      <td>0.26</td>\n",
       "      <td>25.81</td>\n",
       "    </tr>\n",
       "    <tr>\n",
       "      <th>7</th>\n",
       "      <td>MCI</td>\n",
       "      <td>0.24</td>\n",
       "      <td>24.39</td>\n",
       "    </tr>\n",
       "    <tr>\n",
       "      <th>8</th>\n",
       "      <td>Merrill Lynch</td>\n",
       "      <td>0.40</td>\n",
       "      <td>40.26</td>\n",
       "    </tr>\n",
       "    <tr>\n",
       "      <th>9</th>\n",
       "      <td>Microsoft</td>\n",
       "      <td>0.33</td>\n",
       "      <td>32.95</td>\n",
       "    </tr>\n",
       "    <tr>\n",
       "      <th>10</th>\n",
       "      <td>Morgan Stanley</td>\n",
       "      <td>0.91</td>\n",
       "      <td>91.36</td>\n",
       "    </tr>\n",
       "    <tr>\n",
       "      <th>11</th>\n",
       "      <td>Sun Microsystems</td>\n",
       "      <td>0.26</td>\n",
       "      <td>25.99</td>\n",
       "    </tr>\n",
       "    <tr>\n",
       "      <th>12</th>\n",
       "      <td>Travelers</td>\n",
       "      <td>0.39</td>\n",
       "      <td>39.42</td>\n",
       "    </tr>\n",
       "    <tr>\n",
       "      <th>13</th>\n",
       "      <td>US Airways</td>\n",
       "      <td>0.27</td>\n",
       "      <td>26.71</td>\n",
       "    </tr>\n",
       "    <tr>\n",
       "      <th>14</th>\n",
       "      <td>Warner-Lambert</td>\n",
       "      <td>0.35</td>\n",
       "      <td>35.00</td>\n",
       "    </tr>\n",
       "  </tbody>\n",
       "</table>\n",
       "</div>"
      ],
      "text/plain": [
       "     Name of company  Measure X_Percentage  Measure X_Value\n",
       "0      Allied Signal                  0.24            24.23\n",
       "1      Bankers Trust                  0.26            25.53\n",
       "2      General Mills                  0.25            25.41\n",
       "3     ITT Industries                  0.24            24.14\n",
       "4   J.P.Morgan & Co.                  0.30            29.62\n",
       "5    Lehman Brothers                  0.28            28.25\n",
       "6           Marriott                  0.26            25.81\n",
       "7                MCI                  0.24            24.39\n",
       "8      Merrill Lynch                  0.40            40.26\n",
       "9          Microsoft                  0.33            32.95\n",
       "10    Morgan Stanley                  0.91            91.36\n",
       "11  Sun Microsystems                  0.26            25.99\n",
       "12         Travelers                  0.39            39.42\n",
       "13        US Airways                  0.27            26.71\n",
       "14    Warner-Lambert                  0.35            35.00"
      ]
     },
     "execution_count": 4,
     "metadata": {},
     "output_type": "execute_result"
    }
   ],
   "source": [
    "data"
   ]
  },
  {
   "cell_type": "code",
   "execution_count": 5,
   "id": "17517057",
   "metadata": {
    "ExecuteTime": {
     "end_time": "2021-10-16T09:12:37.560519Z",
     "start_time": "2021-10-16T09:12:37.470006Z"
    }
   },
   "outputs": [
    {
     "data": {
      "text/html": [
       "<div>\n",
       "<style scoped>\n",
       "    .dataframe tbody tr th:only-of-type {\n",
       "        vertical-align: middle;\n",
       "    }\n",
       "\n",
       "    .dataframe tbody tr th {\n",
       "        vertical-align: top;\n",
       "    }\n",
       "\n",
       "    .dataframe thead th {\n",
       "        text-align: right;\n",
       "    }\n",
       "</style>\n",
       "<table border=\"1\" class=\"dataframe\">\n",
       "  <thead>\n",
       "    <tr style=\"text-align: right;\">\n",
       "      <th></th>\n",
       "      <th>Measure X_Percentage</th>\n",
       "      <th>Measure X_Value</th>\n",
       "    </tr>\n",
       "  </thead>\n",
       "  <tbody>\n",
       "    <tr>\n",
       "      <th>count</th>\n",
       "      <td>15.000000</td>\n",
       "      <td>15.000000</td>\n",
       "    </tr>\n",
       "    <tr>\n",
       "      <th>mean</th>\n",
       "      <td>0.332000</td>\n",
       "      <td>33.271333</td>\n",
       "    </tr>\n",
       "    <tr>\n",
       "      <th>std</th>\n",
       "      <td>0.168531</td>\n",
       "      <td>16.945401</td>\n",
       "    </tr>\n",
       "    <tr>\n",
       "      <th>min</th>\n",
       "      <td>0.240000</td>\n",
       "      <td>24.140000</td>\n",
       "    </tr>\n",
       "    <tr>\n",
       "      <th>25%</th>\n",
       "      <td>0.255000</td>\n",
       "      <td>25.470000</td>\n",
       "    </tr>\n",
       "    <tr>\n",
       "      <th>50%</th>\n",
       "      <td>0.270000</td>\n",
       "      <td>26.710000</td>\n",
       "    </tr>\n",
       "    <tr>\n",
       "      <th>75%</th>\n",
       "      <td>0.340000</td>\n",
       "      <td>33.975000</td>\n",
       "    </tr>\n",
       "    <tr>\n",
       "      <th>max</th>\n",
       "      <td>0.910000</td>\n",
       "      <td>91.360000</td>\n",
       "    </tr>\n",
       "  </tbody>\n",
       "</table>\n",
       "</div>"
      ],
      "text/plain": [
       "       Measure X_Percentage  Measure X_Value\n",
       "count             15.000000        15.000000\n",
       "mean               0.332000        33.271333\n",
       "std                0.168531        16.945401\n",
       "min                0.240000        24.140000\n",
       "25%                0.255000        25.470000\n",
       "50%                0.270000        26.710000\n",
       "75%                0.340000        33.975000\n",
       "max                0.910000        91.360000"
      ]
     },
     "execution_count": 5,
     "metadata": {},
     "output_type": "execute_result"
    }
   ],
   "source": [
    "data.describe()"
   ]
  },
  {
   "cell_type": "code",
   "execution_count": 6,
   "id": "15576146",
   "metadata": {
    "ExecuteTime": {
     "end_time": "2021-10-16T09:12:40.345449Z",
     "start_time": "2021-10-16T09:12:40.318520Z"
    }
   },
   "outputs": [
    {
     "data": {
      "text/plain": [
       "Measure X_Percentage     0.332000\n",
       "Measure X_Value         33.271333\n",
       "dtype: float64"
      ]
     },
     "execution_count": 6,
     "metadata": {},
     "output_type": "execute_result"
    }
   ],
   "source": [
    "data.mean()"
   ]
  },
  {
   "cell_type": "code",
   "execution_count": 7,
   "id": "9bb8230c",
   "metadata": {
    "ExecuteTime": {
     "end_time": "2021-10-16T09:12:41.248498Z",
     "start_time": "2021-10-16T09:12:41.234536Z"
    }
   },
   "outputs": [
    {
     "data": {
      "text/plain": [
       "Measure X_Percentage      0.028403\n",
       "Measure X_Value         287.146612\n",
       "dtype: float64"
      ]
     },
     "execution_count": 7,
     "metadata": {},
     "output_type": "execute_result"
    }
   ],
   "source": [
    "data.var()"
   ]
  },
  {
   "cell_type": "code",
   "execution_count": 8,
   "id": "626f8789",
   "metadata": {
    "ExecuteTime": {
     "end_time": "2021-10-16T09:12:42.220504Z",
     "start_time": "2021-10-16T09:12:42.208538Z"
    }
   },
   "outputs": [
    {
     "data": {
      "text/plain": [
       "Measure X_Percentage     0.168531\n",
       "Measure X_Value         16.945401\n",
       "dtype: float64"
      ]
     },
     "execution_count": 8,
     "metadata": {},
     "output_type": "execute_result"
    }
   ],
   "source": [
    "data.std()"
   ]
  },
  {
   "cell_type": "code",
   "execution_count": 9,
   "id": "bd594547",
   "metadata": {
    "ExecuteTime": {
     "end_time": "2021-10-16T09:12:46.986551Z",
     "start_time": "2021-10-16T09:12:43.265072Z"
    }
   },
   "outputs": [
    {
     "data": {
      "image/png": "[encoded data removed]",
      "text/plain": [
       "<Figure size 432x288 with 1 Axes>"
      ]
     },
     "metadata": {
      "needs_background": "light"
     },
     "output_type": "display_data"
    }
   ],
   "source": [
    "plt.boxplot(data[\"Measure X_Value\"])\n",
    "plt.show()"
   ]
  },
  {
   "cell_type": "code",
   "execution_count": 11,
   "id": "71aabd73",
   "metadata": {
    "ExecuteTime": {
     "end_time": "2021-10-16T09:13:01.555502Z",
     "start_time": "2021-10-16T09:13:01.537335Z"
    }
   },
   "outputs": [
    {
     "data": {
      "text/plain": [
       "<Figure size 432x288 with 0 Axes>"
      ]
     },
     "metadata": {},
     "output_type": "display_data"
    }
   ],
   "source": [
    "plt.savefig(\"Q1-boxplot.png\")"
   ]
  },
  {
   "cell_type": "markdown",
   "id": "7a22cc9c",
   "metadata": {},
   "source": [
    "# Set-2"
   ]
  },
  {
   "cell_type": "code",
   "execution_count": 14,
   "id": "a7813217",
   "metadata": {
    "ExecuteTime": {
     "end_time": "2021-10-16T10:05:03.838367Z",
     "start_time": "2021-10-16T10:04:51.884517Z"
    }
   },
   "outputs": [],
   "source": [
    "import numpy as np\n",
    "import pandas as pd\n",
    "from scipy import stats"
   ]
  },
  {
   "cell_type": "code",
   "execution_count": 15,
   "id": "06e72036",
   "metadata": {
    "ExecuteTime": {
     "end_time": "2021-10-16T10:05:07.967570Z",
     "start_time": "2021-10-16T10:05:07.820770Z"
    }
   },
   "outputs": [
    {
     "data": {
      "text/plain": [
       "0.26598552904870054"
      ]
     },
     "execution_count": 15,
     "metadata": {},
     "output_type": "execute_result"
    }
   ],
   "source": [
    "1-stats.norm.cdf(50,loc=45,scale=8)"
   ]
  },
  {
   "cell_type": "code",
   "execution_count": 18,
   "id": "1f7b2398",
   "metadata": {
    "ExecuteTime": {
     "end_time": "2021-10-16T10:28:29.000690Z",
     "start_time": "2021-10-16T10:28:28.983736Z"
    }
   },
   "outputs": [
    {
     "data": {
      "text/plain": [
       "0.0477903522728147"
      ]
     },
     "execution_count": 18,
     "metadata": {},
     "output_type": "execute_result"
    }
   ],
   "source": [
    "stats.norm.cdf(0,loc=5,scale=3)"
   ]
  },
  {
   "cell_type": "code",
   "execution_count": 19,
   "id": "156f8211",
   "metadata": {
    "ExecuteTime": {
     "end_time": "2021-10-16T10:28:32.889739Z",
     "start_time": "2021-10-16T10:28:32.884756Z"
    }
   },
   "outputs": [
    {
     "data": {
      "text/plain": [
       "0.040059156863817086"
      ]
     },
     "execution_count": 19,
     "metadata": {},
     "output_type": "execute_result"
    }
   ],
   "source": [
    "stats.norm.cdf(0,loc=7,scale=4)"
   ]
  },
  {
   "cell_type": "markdown",
   "id": "2aeb184e",
   "metadata": {},
   "source": [
    "# Set-4"
   ]
  },
  {
   "cell_type": "code",
   "execution_count": 34,
   "id": "12f7c6b2",
   "metadata": {
    "ExecuteTime": {
     "end_time": "2021-10-17T11:23:18.433784Z",
     "start_time": "2021-10-17T11:23:18.416830Z"
    }
   },
   "outputs": [
    {
     "name": "stdout",
     "output_type": "stream",
     "text": [
      "0.8943502263331446\n"
     ]
    }
   ],
   "source": [
    "A = stats.norm.cdf(55,loc=50,scale=4)\n",
    "print(A)"
   ]
  },
  {
   "cell_type": "code",
   "execution_count": 35,
   "id": "1eda8869",
   "metadata": {
    "ExecuteTime": {
     "end_time": "2021-10-17T11:23:19.268378Z",
     "start_time": "2021-10-17T11:23:19.226496Z"
    }
   },
   "outputs": [],
   "source": [
    "B = stats.norm.cdf(45,loc=50,scale=4)"
   ]
  },
  {
   "cell_type": "code",
   "execution_count": 36,
   "id": "cf8e6e6d",
   "metadata": {
    "ExecuteTime": {
     "end_time": "2021-10-17T11:23:20.045770Z",
     "start_time": "2021-10-17T11:23:20.039786Z"
    }
   },
   "outputs": [
    {
     "data": {
      "text/plain": [
       "0.7887004526662893"
      ]
     },
     "execution_count": 36,
     "metadata": {},
     "output_type": "execute_result"
    }
   ],
   "source": [
    "C = A-B"
   ]
  },
  {
   "cell_type": "code",
   "execution_count": 37,
   "id": "cd844b23",
   "metadata": {
    "ExecuteTime": {
     "end_time": "2021-10-17T11:25:07.961329Z",
     "start_time": "2021-10-17T11:25:07.942379Z"
    }
   },
   "outputs": [
    {
     "data": {
      "text/plain": [
       "0.21130000000000004"
      ]
     },
     "execution_count": 37,
     "metadata": {},
     "output_type": "execute_result"
    }
   ],
   "source": [
    "1-0.7887"
   ]
  },
  {
   "cell_type": "code",
   "execution_count": null,
   "id": "698e0078",
   "metadata": {},
   "outputs": [],
   "source": []
  }
 ],
 "metadata": {
  "kernelspec": {
   "display_name": "Python 3",
   "language": "python",
   "name": "python3"
  },
  "language_info": {
   "codemirror_mode": {
    "name": "ipython",
    "version": 3
   },
   "file_extension": ".py",
   "mimetype": "text/x-python",
   "name": "python",
   "nbconvert_exporter": "python",
   "pygments_lexer": "ipython3",
   "version": "3.8.8"
  },
  "toc": {
   "base_numbering": 1,
   "nav_menu": {},
   "number_sections": true,
   "sideBar": true,
   "skip_h1_title": false,
   "title_cell": "Table of Contents",
   "title_sidebar": "Contents",
   "toc_cell": false,
   "toc_position": {},
   "toc_section_display": true,
   "toc_window_display": false
  },
  "varInspector": {
   "cols": {
    "lenName": 16,
    "lenType": 16,
    "lenVar": 40
   },
   "kernels_config": {
    "python": {
     "delete_cmd_postfix": "",
     "delete_cmd_prefix": "del ",
     "library": "var_list.py",
     "varRefreshCmd": "print(var_dic_list())"
    },
    "r": {
     "delete_cmd_postfix": ") ",
     "delete_cmd_prefix": "rm(",
     "library": "var_list.r",
     "varRefreshCmd": "cat(var_dic_list()) "
    }
   },
   "types_to_exclude": [
    "module",
    "function",
    "builtin_function_or_method",
    "instance",
    "_Feature"
   ],
   "window_display": false
  }
 },
 "nbformat": 4,
 "nbformat_minor": 5
}
